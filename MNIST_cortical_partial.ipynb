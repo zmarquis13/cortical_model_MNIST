{
  "nbformat": 4,
  "nbformat_minor": 0,
  "metadata": {
    "colab": {
      "provenance": [],
      "gpuType": "V28",
      "authorship_tag": "ABX9TyNWiTotQFY+/Ej14adSpKIZ",
      "include_colab_link": true
    },
    "kernelspec": {
      "name": "python3",
      "display_name": "Python 3"
    },
    "language_info": {
      "name": "python"
    },
    "accelerator": "TPU"
  },
  "cells": [
    {
      "cell_type": "markdown",
      "metadata": {
        "id": "view-in-github",
        "colab_type": "text"
      },
      "source": [
        "<a href=\"https://colab.research.google.com/github/zmarquis13/cortical_model_MNIST/blob/main/MNIST_cortical_partial.ipynb\" target=\"_parent\"><img src=\"https://colab.research.google.com/assets/colab-badge.svg\" alt=\"Open In Colab\"/></a>"
      ]
    },
    {
      "cell_type": "code",
      "execution_count": 12,
      "metadata": {
        "id": "jieD6EIVLH9H"
      },
      "outputs": [],
      "source": [
        "import torch\n",
        "from torch.utils.data import Dataset\n",
        "from torchvision import datasets\n",
        "from torchvision.transforms import ToTensor\n",
        "import matplotlib.pyplot as plt"
      ]
    },
    {
      "cell_type": "code",
      "source": [
        "training_data = datasets.MNIST(\n",
        "    root=\"data\",\n",
        "    train=True,\n",
        "    download=True,\n",
        "    transform=ToTensor()\n",
        ")\n",
        "\n",
        "test_data = datasets.MNIST(\n",
        "    root=\"data\",\n",
        "    train=False,\n",
        "    download=True,\n",
        "    transform=ToTensor()\n",
        ")"
      ],
      "metadata": {
        "id": "FJrRcI1cLUyQ"
      },
      "execution_count": 13,
      "outputs": []
    },
    {
      "cell_type": "code",
      "source": [
        "lr = 0.1\n",
        "batch_size = 64\n",
        "epochs = 10"
      ],
      "metadata": {
        "id": "4zquxZNe6hbE"
      },
      "execution_count": 14,
      "outputs": []
    },
    {
      "cell_type": "code",
      "source": [
        "from torch.utils.data import DataLoader\n",
        "\n",
        "train_dataloader = DataLoader(training_data, batch_size, shuffle=True)\n",
        "test_dataloader = DataLoader(test_data, batch_size, shuffle=True)"
      ],
      "metadata": {
        "id": "71AIRkdGR3AR"
      },
      "execution_count": 15,
      "outputs": []
    },
    {
      "cell_type": "code",
      "source": [
        "# Display image and label.\n",
        "train_features, train_labels = next(iter(train_dataloader))\n",
        "print(f\"Feature batch shape: {train_features.size()}\")\n",
        "print(f\"Labels batch shape: {train_labels.size()}\")\n",
        "img = train_features[0].squeeze()\n",
        "label = train_labels[0]\n",
        "plt.imshow(img, cmap=\"gray\")\n",
        "plt.show()\n",
        "print(f\"Label: {label}\")"
      ],
      "metadata": {
        "colab": {
          "base_uri": "https://localhost:8080/",
          "height": 484
        },
        "id": "q8tkOvQORp-J",
        "outputId": "eb9720ce-47b5-48fa-b140-da7206642493"
      },
      "execution_count": 16,
      "outputs": [
        {
          "output_type": "stream",
          "name": "stdout",
          "text": [
            "Feature batch shape: torch.Size([64, 1, 28, 28])\n",
            "Labels batch shape: torch.Size([64])\n"
          ]
        },
        {
          "output_type": "display_data",
          "data": {
            "text/plain": [
              "<Figure size 640x480 with 1 Axes>"
            ],
            "image/png": "[encoded data removed]"
          },
          "metadata": {}
        },
        {
          "output_type": "stream",
          "name": "stdout",
          "text": [
            "Label: 2\n"
          ]
        }
      ]
    },
    {
      "cell_type": "markdown",
      "source": [],
      "metadata": {
        "id": "jvLxBZk7Or_f"
      }
    },
    {
      "cell_type": "code",
      "source": [
        "dev = torch.device('cuda') if torch.cuda.is_available() else torch.device('cpu')"
      ],
      "metadata": {
        "id": "yx2b_8HNNSSW"
      },
      "execution_count": 17,
      "outputs": []
    },
    {
      "cell_type": "code",
      "source": [
        "from torch import nn\n",
        "\n",
        "class NeuralNetwork(nn.Module):\n",
        "    def __init__(self):\n",
        "        super().__init__()\n",
        "\n",
        "        #input layer\n",
        "        self.input = nn.Linear(28*28, 512)\n",
        "        self.hidden = nn.Linear(512, 512)\n",
        "\n",
        "        #cortex hidden layers\n",
        "        self.cortex0 = nn.Linear(512, 10)\n",
        "        self.cortex1 = nn.Linear(512, 10)\n",
        "        self.cortex2 = nn.Linear(512, 10)\n",
        "        self.cortex3 = nn.Linear(512, 10)\n",
        "        self.cortex4 = nn.Linear(512, 10)\n",
        "\n",
        "\n",
        "\n",
        "        #outputs for specific numbers\n",
        "        self.output0 = nn.Linear(10, 1)\n",
        "        self.output1 = nn.Linear(10, 1)\n",
        "        self.output2 = nn.Linear(10, 1)\n",
        "        self.output3 = nn.Linear(10, 1)\n",
        "        self.output4 = nn.Linear(10, 1)\n",
        "\n",
        "        #ouput for \"I don't know\"\n",
        "        self.output5 = nn.Linear(10, 1)\n",
        "\n",
        "\n",
        "    def forward(self, x):\n",
        "\n",
        "        x = self.input(x)\n",
        "        x = self.hidden(x)\n",
        "\n",
        "        x0 = torch.relu(self.cortex0(x))\n",
        "        x1 = torch.relu(self.cortex1(x))\n",
        "        x2 = torch.relu(self.cortex2(x))\n",
        "        x3 = torch.relu(self.cortex3(x))\n",
        "        x4 = torch.relu(self.cortex4(x))\n",
        "\n",
        "        x0 = self.output0(x0)\n",
        "        x1 = self.output1(x1)\n",
        "        x2 = self.output2(x2)\n",
        "        x3 = self.output3(x3)\n",
        "        x4 = self.output4(x4)\n",
        "\n",
        "\n",
        "        x = torch.cat((x0, x1, x2, x3, x4), 1)\n",
        "\n",
        "        #the value for the \"unsure\" output is 1 - sigmoid(sum(outputs 0-4))\n",
        "        temp = torch.ones(x.size(0), 1)\n",
        "        for i in range (x.size(0)):\n",
        "          sum = 0\n",
        "          for j in range(5):\n",
        "            sum += x[1][j]\n",
        "            temp[i] = 1 - torch.sigmoid(sum)\n",
        "\n",
        "        zeros = torch.zeros(x.size(0), 4)\n",
        "        intermediate = torch.cat((temp, zeros), 1)\n",
        "\n",
        "        x = torch.cat((x, intermediate), 1)\n",
        "\n",
        "        return x\n",
        "\n",
        "model = NeuralNetwork()"
      ],
      "metadata": {
        "id": "2vN0HUYENdif"
      },
      "execution_count": 18,
      "outputs": []
    },
    {
      "cell_type": "code",
      "source": [
        "# something to consider: data is 50% \"null\" and 10% of each of the classified numbers, may cause bias\n",
        "# towards null but this is solvable by only including 1/6 of the null values\n",
        "\n",
        "loss_fn = nn.CrossEntropyLoss()\n"
      ],
      "metadata": {
        "id": "YsmfJWL5NeYo"
      },
      "execution_count": 19,
      "outputs": []
    },
    {
      "cell_type": "code",
      "source": [
        "def train_loop(dataloader, model, loss_fn, optimizer):\n",
        "    size = len(dataloader.dataset)\n",
        "\n",
        "    # set model to train\n",
        "\n",
        "    model.train()\n",
        "    for batch, (X, y) in enumerate(dataloader):\n",
        "\n",
        "        X = X.view(X.shape[0],784)\n",
        "\n",
        "        #generate prediction\n",
        "        pred = model(X)\n",
        "\n",
        "        # for all ground truths greater than 5, make them 5 (the \"I don't know value\")\n",
        "        for i in range(y.size(0)):\n",
        "              if y[i] > 5:\n",
        "                y[i] = 5\n",
        "\n",
        "        #calculate loss\n",
        "        loss = loss_fn(pred, y)\n",
        "\n",
        "        # Backpropagation\n",
        "        loss.backward()\n",
        "        optimizer.step()\n",
        "        optimizer.zero_grad()\n",
        "\n",
        "        #print loss every 100 batches\n",
        "        if batch % 100 == 99:\n",
        "            loss, current = loss.item(), batch * batch_size + len(X)\n",
        "            print(f\"loss: {loss:>7f}  [{current:>5d}/{size:>5d}]\")\n",
        "\n",
        "\n",
        "def test_loop(dataloader, model, loss_fn):\n",
        "\n",
        "    # set model to eval\n",
        "    model.eval()\n",
        "    size = len(dataloader.dataset)\n",
        "    num_batches = len(dataloader)\n",
        "    test_loss, correct = 0, 0\n",
        "\n",
        "    #disable gradient calculation\n",
        "    with torch.no_grad():\n",
        "        for X, y in dataloader:\n",
        "            X = X.view(X.shape[0],784)\n",
        "\n",
        "            pred = model(X)\n",
        "\n",
        "            #for all ground truths greater than 5, make them 5 (the \"I don't know value\")\n",
        "            for i in range(y.size(0)):\n",
        "              if y[i] > 5:\n",
        "                y[i] = 5\n",
        "\n",
        "            test_loss += loss_fn(pred, y).item()\n",
        "            correct += (pred.argmax(1) == y).type(torch.float).sum().item()\n",
        "\n",
        "    test_loss /= num_batches\n",
        "    correct /= size\n",
        "    print(f\"Number Test Results: \\n Accuracy: {(100*correct):>0.1f}%, Avg loss: {test_loss:>8f} \\n\")"
      ],
      "metadata": {
        "id": "DNGpctX9Xonc"
      },
      "execution_count": 20,
      "outputs": []
    },
    {
      "cell_type": "code",
      "source": [
        "def test_static(mode, loss_fn):\n",
        "  model.eval()\n",
        "\n",
        "  with torch.no_grad():\n",
        "    #size of about 10000 (10048)\n",
        "    size = 157*64\n",
        "    num_batches = 157\n",
        "    test_loss, correct = 0, 0\n",
        "\n",
        "    for i in range (num_batches):\n",
        "\n",
        "      static = torch.rand(64, 784)\n",
        "      pred = model(static)\n",
        "\n",
        "      #set all labels to 5 (it's static so an \"I don't know\" is accurate)\n",
        "      y = torch.ones(64, dtype=torch.long)\n",
        "      y = y * 5\n",
        "\n",
        "      test_loss += loss_fn(pred, y).item()\n",
        "      correct += (pred.argmax(1) == y).type(torch.float).sum().item()\n",
        "\n",
        "  test_loss /= num_batches\n",
        "\n",
        "  correct /= 10048.0\n",
        "  print(f\"Static Test Results: \\n Accuracy: {(100*correct):>0.1f}%, Avg loss: {test_loss:>8f} \\n\")\n",
        "\n"
      ],
      "metadata": {
        "id": "CMqtJMmbbEAu"
      },
      "execution_count": 21,
      "outputs": []
    },
    {
      "cell_type": "code",
      "source": [
        "optimizer = torch.optim.SGD(model.parameters(), lr=lr)\n",
        "\n",
        "for t in range(epochs):\n",
        "    print(f\"Epoch {t+1}\\n-------------------------------\")\n",
        "    train_loop(train_dataloader, model, loss_fn, optimizer)\n",
        "    test_loop(test_dataloader, model, loss_fn)\n",
        "    test_static(model, loss_fn)\n",
        "print(\"Done!\")"
      ],
      "metadata": {
        "colab": {
          "base_uri": "https://localhost:8080/"
        },
        "id": "98F0IYYJXpvX",
        "outputId": "d83cc447-f21a-45a4-eba6-8cca0a8f8fde"
      },
      "execution_count": 22,
      "outputs": [
        {
          "output_type": "stream",
          "name": "stdout",
          "text": [
            "Epoch 1\n",
            "-------------------------------\n",
            "loss: 1.009162  [ 6400/60000]\n",
            "loss: 1.033860  [12800/60000]\n",
            "loss: 0.821061  [19200/60000]\n",
            "loss: 0.604388  [25600/60000]\n",
            "loss: 0.783856  [32000/60000]\n",
            "loss: 0.935323  [38400/60000]\n",
            "loss: 0.872530  [44800/60000]\n",
            "loss: 0.709434  [51200/60000]\n",
            "loss: 1.003004  [57600/60000]\n",
            "Number Test Results: \n",
            " Accuracy: 93.4%, Avg loss: 0.662800 \n",
            "\n",
            "Static Test Results: \n",
            " Accuracy: 100.0%, Avg loss: 0.917881 \n",
            "\n",
            "Epoch 2\n",
            "-------------------------------\n",
            "loss: 0.587298  [ 6400/60000]\n",
            "loss: 0.592821  [12800/60000]\n",
            "loss: 0.757221  [19200/60000]\n",
            "loss: 0.621650  [25600/60000]\n",
            "loss: 0.762383  [32000/60000]\n",
            "loss: 0.703448  [38400/60000]\n",
            "loss: 0.855439  [44800/60000]\n",
            "loss: 0.554001  [51200/60000]\n",
            "loss: 0.718895  [57600/60000]\n",
            "Number Test Results: \n",
            " Accuracy: 91.7%, Avg loss: 0.722258 \n",
            "\n",
            "Static Test Results: \n",
            " Accuracy: 88.3%, Avg loss: 1.055454 \n",
            "\n",
            "Epoch 3\n",
            "-------------------------------\n",
            "loss: 0.881703  [ 6400/60000]\n",
            "loss: 0.587773  [12800/60000]\n",
            "loss: 0.751596  [19200/60000]\n",
            "loss: 0.685362  [25600/60000]\n",
            "loss: 0.633028  [32000/60000]\n",
            "loss: 0.543800  [38400/60000]\n",
            "loss: 0.552037  [44800/60000]\n",
            "loss: 0.577691  [51200/60000]\n",
            "loss: 0.598893  [57600/60000]\n",
            "Number Test Results: \n",
            " Accuracy: 93.6%, Avg loss: 0.626193 \n",
            "\n",
            "Static Test Results: \n",
            " Accuracy: 34.8%, Avg loss: 1.677382 \n",
            "\n",
            "Epoch 4\n",
            "-------------------------------\n",
            "loss: 0.703189  [ 6400/60000]\n",
            "loss: 0.534985  [12800/60000]\n",
            "loss: 0.628780  [19200/60000]\n",
            "loss: 0.473654  [25600/60000]\n",
            "loss: 0.498627  [32000/60000]\n",
            "loss: 0.740232  [38400/60000]\n",
            "loss: 0.611761  [44800/60000]\n",
            "loss: 0.645147  [51200/60000]\n",
            "loss: 0.580174  [57600/60000]\n",
            "Number Test Results: \n",
            " Accuracy: 94.3%, Avg loss: 0.597604 \n",
            "\n",
            "Static Test Results: \n",
            " Accuracy: 65.2%, Avg loss: 1.243486 \n",
            "\n",
            "Epoch 5\n",
            "-------------------------------\n",
            "loss: 0.514391  [ 6400/60000]\n",
            "loss: 0.645979  [12800/60000]\n",
            "loss: 0.642194  [19200/60000]\n",
            "loss: 0.634095  [25600/60000]\n",
            "loss: 0.481382  [32000/60000]\n",
            "loss: 0.520671  [38400/60000]\n",
            "loss: 0.638922  [44800/60000]\n",
            "loss: 0.587868  [51200/60000]\n",
            "loss: 0.574252  [57600/60000]\n",
            "Number Test Results: \n",
            " Accuracy: 95.1%, Avg loss: 0.576139 \n",
            "\n",
            "Static Test Results: \n",
            " Accuracy: 93.7%, Avg loss: 1.024635 \n",
            "\n",
            "Epoch 6\n",
            "-------------------------------\n",
            "loss: 0.690330  [ 6400/60000]\n",
            "loss: 0.494300  [12800/60000]\n",
            "loss: 0.580270  [19200/60000]\n",
            "loss: 0.655200  [25600/60000]\n",
            "loss: 0.604658  [32000/60000]\n",
            "loss: 0.463521  [38400/60000]\n",
            "loss: 0.726980  [44800/60000]\n",
            "loss: 0.514486  [51200/60000]\n",
            "loss: 0.490707  [57600/60000]\n",
            "Number Test Results: \n",
            " Accuracy: 95.7%, Avg loss: 0.566580 \n",
            "\n",
            "Static Test Results: \n",
            " Accuracy: 87.8%, Avg loss: 1.055388 \n",
            "\n",
            "Epoch 7\n",
            "-------------------------------\n",
            "loss: 0.472067  [ 6400/60000]\n",
            "loss: 0.588426  [12800/60000]\n",
            "loss: 0.699940  [19200/60000]\n",
            "loss: 0.481114  [25600/60000]\n",
            "loss: 0.639947  [32000/60000]\n",
            "loss: 0.648825  [38400/60000]\n",
            "loss: 0.396013  [44800/60000]\n",
            "loss: 0.586940  [51200/60000]\n",
            "loss: 0.529122  [57600/60000]\n",
            "Number Test Results: \n",
            " Accuracy: 94.5%, Avg loss: 0.575564 \n",
            "\n",
            "Static Test Results: \n",
            " Accuracy: 40.7%, Avg loss: 1.449088 \n",
            "\n",
            "Epoch 8\n",
            "-------------------------------\n",
            "loss: 0.504298  [ 6400/60000]\n",
            "loss: 0.532692  [12800/60000]\n",
            "loss: 0.593737  [19200/60000]\n",
            "loss: 0.488768  [25600/60000]\n",
            "loss: 0.628466  [32000/60000]\n",
            "loss: 0.540206  [38400/60000]\n",
            "loss: 0.588343  [44800/60000]\n",
            "loss: 0.541535  [51200/60000]\n",
            "loss: 0.602875  [57600/60000]\n",
            "Number Test Results: \n",
            " Accuracy: 96.2%, Avg loss: 0.558618 \n",
            "\n",
            "Static Test Results: \n",
            " Accuracy: 98.1%, Avg loss: 0.953366 \n",
            "\n",
            "Epoch 9\n",
            "-------------------------------\n",
            "loss: 0.621448  [ 6400/60000]\n",
            "loss: 0.558797  [12800/60000]\n",
            "loss: 0.478769  [19200/60000]\n",
            "loss: 0.559323  [25600/60000]\n",
            "loss: 0.694719  [32000/60000]\n",
            "loss: 0.594715  [38400/60000]\n",
            "loss: 0.503794  [44800/60000]\n",
            "loss: 0.552671  [51200/60000]\n",
            "loss: 0.825209  [57600/60000]\n",
            "Number Test Results: \n",
            " Accuracy: 95.9%, Avg loss: 0.548415 \n",
            "\n",
            "Static Test Results: \n",
            " Accuracy: 13.7%, Avg loss: 2.201542 \n",
            "\n",
            "Epoch 10\n",
            "-------------------------------\n",
            "loss: 0.628798  [ 6400/60000]\n",
            "loss: 0.538019  [12800/60000]\n",
            "loss: 0.666707  [19200/60000]\n",
            "loss: 0.496068  [25600/60000]\n",
            "loss: 0.568848  [32000/60000]\n",
            "loss: 0.647345  [38400/60000]\n",
            "loss: 0.531498  [44800/60000]\n",
            "loss: 0.640451  [51200/60000]\n",
            "loss: 0.574314  [57600/60000]\n",
            "Number Test Results: \n",
            " Accuracy: 95.1%, Avg loss: 0.564235 \n",
            "\n",
            "Static Test Results: \n",
            " Accuracy: 88.3%, Avg loss: 1.038662 \n",
            "\n",
            "Done!\n"
          ]
        }
      ]
    }
  ]
}